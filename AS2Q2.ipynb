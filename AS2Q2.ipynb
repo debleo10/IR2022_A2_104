{
 "cells": [
  {
   "cell_type": "code",
   "execution_count": 39,
   "metadata": {},
   "outputs": [],
   "source": [
    "import numpy as np\n",
    "import pandas as pd\n",
    "import math\n",
    "import matplotlib.pyplot as plt"
   ]
  },
  {
   "cell_type": "code",
   "execution_count": 40,
   "metadata": {},
   "outputs": [],
   "source": [
    "db = {}\n",
    "data = pd.read_csv('IR-assignment-2-data.txt', sep=\" \", header=None)\n",
    "for i in range(0,len(data)):\n",
    "    if (data.at[i,1] == \"qid:4\"):\n",
    "        db[i] = data.at[i,0]\n",
    "temp =data.drop((data.index[len(db):]))\n",
    "np.savetxt('query4max.txt', temp.values, fmt='%s', delimiter=\" \")\n",
    "unsortedDb = db.items()\n",
    "unsortedDb = list(unsortedDb)\n",
    "db = sorted(db.items(), key = lambda kv:(kv[1], kv[0]), reverse = True)"
   ]
  },
  {
   "cell_type": "code",
   "execution_count": 41,
   "metadata": {},
   "outputs": [
    {
     "name": "stdout",
     "output_type": "stream",
     "text": [
      "Number Of files :19893497375938370599826047614905329896936840170566570588205180312704857992695193482412686565431050240000000000000000000000\n"
     ]
    }
   ],
   "source": [
    "c1=0\n",
    "c2=0\n",
    "c3=0\n",
    "c4=0\n",
    "for i in db:\n",
    "    if (i[1] == 3):\n",
    "        c1+=1;\n",
    "    elif (i[1] == 2):\n",
    "        c2+=1;\n",
    "    elif (i[1] == 1):\n",
    "        c3+=1;\n",
    "    else:\n",
    "        c4+=1;\n",
    "print(\"Number Of files :\"+str(math.factorial(c1)*math.factorial(c2)*math.factorial(c3)*math.factorial(c4)))"
   ]
  },
  {
   "cell_type": "code",
   "execution_count": 42,
   "metadata": {},
   "outputs": [],
   "source": [
    "def findDCG(data):\n",
    "    ans = data[0][1];\n",
    "    for i in range(1, len(data)):\n",
    "        temp = (data[i][1]/math.log2(i+1))\n",
    "        ans= ans + temp    \n",
    "    return ans   "
   ]
  },
  {
   "cell_type": "code",
   "execution_count": 43,
   "metadata": {},
   "outputs": [
    {
     "name": "stdout",
     "output_type": "stream",
     "text": [
      "Max DCG is: 20.989750804831445\n",
      "nDCG 50: 0.5979226516897831\n",
      "nDCG whole : 0.5979226516897831\n"
     ]
    }
   ],
   "source": [
    "maxDcgValue = findDCG(db)\n",
    "unsortedDcgValue = findDCG(unsortedDb)\n",
    "maxDcgValue_50 = findDCG(db)\n",
    "unsortedDcgValue_50 = findDCG(unsortedDb)\n",
    "print(f\"Max DCG is: {maxDcgValue}\")\n",
    "print(f\"nDCG 50: {(unsortedDcgValue_50/maxDcgValue_50)}\")\n",
    "print(f\"nDCG whole : {(unsortedDcgValue/maxDcgValue)}\")"
   ]
  },
  {
   "cell_type": "code",
   "execution_count": 45,
   "metadata": {},
   "outputs": [],
   "source": [
    "totalRelDocs = 0\n",
    "for i in range(len(db)):\n",
    "    if db[i][1]!=0:\n",
    "        totalRelDocs+=1"
   ]
  },
  {
   "cell_type": "code",
   "execution_count": 46,
   "metadata": {},
   "outputs": [
    {
     "data": {
      "text/plain": [
       "44"
      ]
     },
     "execution_count": 46,
     "metadata": {},
     "output_type": "execute_result"
    }
   ],
   "source": [
    "totalRelDocs"
   ]
  },
  {
   "cell_type": "code",
   "execution_count": 50,
   "metadata": {},
   "outputs": [
    {
     "data": {
      "image/png": "[encoded data removed]",
      "text/plain": [
       "<Figure size 432x288 with 1 Axes>"
      ]
     },
     "metadata": {
      "needs_background": "light"
     },
     "output_type": "display_data"
    }
   ],
   "source": [
    "rel_tf_pairs = {}  \n",
    "# Database for storing Relevance and tf-idf pairs\n",
    "for i in range(0,len(data)):\n",
    "        if (data.at[i,1] == \"qid:4\"):\n",
    "            s = float(data.at[i,76][3:])  \n",
    "            temp = (s,data.at[i,0])\n",
    "            rel_tf_pairs[i] = (temp)\n",
    "sortedByTF = sorted(rel_tf_pairs.items(), key = lambda kv:(kv[1], kv[0]), reverse = True)\n",
    "totalDocs = len(db)\n",
    "retrivedRelDocs = 0;\n",
    "precision = []\n",
    "recall = []\n",
    "for i in range(0, len(sortedByTF)):\n",
    "        if (sortedByTF[i][1][1] != 0):\n",
    "            retrivedRelDocs+=1\n",
    "        precision.append(retrivedRelDocs/(i+1))\n",
    "        recall.append(retrivedRelDocs/totalRelDocs)\n",
    "plt.plot(recall, precision)\n",
    "plt.show()"
   ]
  },
  {
   "cell_type": "code",
   "execution_count": null,
   "metadata": {},
   "outputs": [],
   "source": []
  }
 ],
 "metadata": {
  "kernelspec": {
   "display_name": "Python 3",
   "language": "python",
   "name": "python3"
  },
  "language_info": {
   "codemirror_mode": {
    "name": "ipython",
    "version": 3
   },
   "file_extension": ".py",
   "mimetype": "text/x-python",
   "name": "python",
   "nbconvert_exporter": "python",
   "pygments_lexer": "ipython3",
   "version": "3.7.6"
  }
 },
 "nbformat": 4,
 "nbformat_minor": 4
}
